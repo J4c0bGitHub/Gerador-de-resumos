{
  "nbformat": 4,
  "nbformat_minor": 0,
  "metadata": {
    "colab": {
      "name": "webscraping-na-pratica.ipynb",
      "provenance": [],
      "private_outputs": true,
      "collapsed_sections": [],
      "include_colab_link": true
    },
    "kernelspec": {
      "name": "python3",
      "display_name": "Python 3"
    },
    "accelerator": "GPU"
  },
  "cells": [
    {
      "cell_type": "markdown",
      "metadata": {
        "id": "view-in-github",
        "colab_type": "text"
      },
      "source": [
        "<a href=\"https://colab.research.google.com/github/J4c0bGitHub/Gerador-de-resumos/blob/master/webscraping_na_pratica.ipynb\" target=\"_parent\"><img src=\"https://colab.research.google.com/assets/colab-badge.svg\" alt=\"Open In Colab\"/></a>"
      ]
    },
    {
      "cell_type": "code",
      "metadata": {
        "id": "EvPf8qohMzyl",
        "colab_type": "code",
        "colab": {}
      },
      "source": [
        "# Importamos as libs\n",
        "import requests\n",
        "from bs4 import BeautifulSoup"
      ],
      "execution_count": 0,
      "outputs": []
    },
    {
      "cell_type": "code",
      "metadata": {
        "id": "pFYhB_peWtys",
        "colab_type": "code",
        "colab": {}
      },
      "source": [
        "# Orientamos as requisições\n",
        "html = \"https://pt.wikipedia.org/wiki/Wikip%C3%A9dia:P%C3%A1gina_principal\"\n",
        "r = requests.get(html)"
      ],
      "execution_count": 0,
      "outputs": []
    },
    {
      "cell_type": "code",
      "metadata": {
        "id": "Rme46Hq7Wt1i",
        "colab_type": "code",
        "colab": {}
      },
      "source": [
        "# armazenamos o conteúdo\n",
        "conteudo = BeautifulSoup(r.content, 'html.parser')\n",
        "# buscamos dentro do conteúdo nosso alvo\n",
        "artigo = conteudo.find(\"div\", {\"id\": \"mf-artigos-destacados\"})\n",
        "artigo = artigo.text"
      ],
      "execution_count": 0,
      "outputs": []
    },
    {
      "cell_type": "code",
      "metadata": {
        "id": "GcoxJ3u5Wzhc",
        "colab_type": "code",
        "colab": {}
      },
      "source": [
        "# apresentamos ao usuário final\n",
        "print(\"Artigo destacado de hoje:\")\n",
        "artigo = str(artigo.split(\".\")[0:3])\n",
        "print(artigo.strip(\"[]\\\\n\"))"
      ],
      "execution_count": 0,
      "outputs": []
    },
    {
      "cell_type": "code",
      "metadata": {
        "id": "kueCPiZIfpfV",
        "colab_type": "code",
        "colab": {}
      },
      "source": [
        "# Continue o código aqui..."
      ],
      "execution_count": 0,
      "outputs": []
    }
  ]
}